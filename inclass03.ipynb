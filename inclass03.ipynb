{
 "cells": [
  {
   "cell_type": "code",
   "execution_count": 3,
   "id": "82234094",
   "metadata": {},
   "outputs": [],
   "source": [
    "import numpy as np"
   ]
  },
  {
   "cell_type": "code",
   "execution_count": 9,
   "id": "eb4518d2",
   "metadata": {},
   "outputs": [
    {
     "name": "stdout",
     "output_type": "stream",
     "text": [
      "[1 2 3]\n",
      "[[1 2]\n",
      " [3 4]]\n",
      "[[1 2 3]\n",
      " [4 5 6]]\n"
     ]
    }
   ],
   "source": [
    "# 새로운 array를 생성\n",
    "# 1차원 = vector, 2차원 = matrix\n",
    "\n",
    "a = np.array([1, 2, 3]) # 1차원 벡터를 생성\n",
    "A = np.array([[1, 2], [3, 4]]) # 2x2의 2차원 행렬을 생성\n",
    "B = np.array([[1, 2, 3], [4, 5, 6]]) # 2x3의 2차원 행렬을 생성\n",
    "\n",
    "print(a)\n",
    "print(A)\n",
    "print(B)"
   ]
  },
  {
   "cell_type": "code",
   "execution_count": 12,
   "id": "6555b5b5",
   "metadata": {},
   "outputs": [
    {
     "name": "stdout",
     "output_type": "stream",
     "text": [
      "[[0. 0. 0. 0.]\n",
      " [0. 0. 0. 0.]\n",
      " [0. 0. 0. 0.]]\n",
      "[[1. 1. 1. 1. 1.]\n",
      " [1. 1. 1. 1. 1.]]\n",
      "[[100 100]\n",
      " [100 100]\n",
      " [100 100]]\n"
     ]
    }
   ],
   "source": [
    "# 0, 1 또는 특정한 값으로 초기화\n",
    "\n",
    "X = np.zeros((3, 4)) # 3x4의 0으로 가득찬 행렬\n",
    "Y = np.ones((2, 5)) # 2x5의 1로 가득찬 행렬\n",
    "Z = np.full((3, 2), 100) # 첫번째 인자의 shape으로, 두번째 인자로 가득찬 행렬\n",
    "\n",
    "print(X)\n",
    "print(Y)\n",
    "print(Z)"
   ]
  },
  {
   "cell_type": "code",
   "execution_count": 16,
   "id": "582eb161",
   "metadata": {},
   "outputs": [
    {
     "name": "stdout",
     "output_type": "stream",
     "text": [
      "[0 1 2 3 4 5 6 7 8 9]\n",
      "[0 4 8]\n"
     ]
    }
   ],
   "source": [
    "# np.arange(시작하는 값, 마지막 값(디폴트 = 포함 x), 증가량(디폴트 = 1))\n",
    "x = np.arange(0, 10)\n",
    "y = np.arange(0, 10, 4)\n",
    "\n",
    "print(x)\n",
    "print(y)"
   ]
  },
  {
   "cell_type": "code",
   "execution_count": 22,
   "id": "da323800",
   "metadata": {},
   "outputs": [
    {
     "name": "stdout",
     "output_type": "stream",
     "text": [
      "[ 0.   2.5  5.   7.5 10. ]\n",
      "[ 0.   2.5  5.   7.5 10. ]\n",
      "[0. 2. 4. 6. 8.]\n"
     ]
    }
   ],
   "source": [
    "# np.linspace(시작하는 값, 마지막 값(디폴트 = 포함 o), 전체 개수)\n",
    "x = np.linspace(0, 10, 5)\n",
    "z1 = np.linspace(0, 10, 5, endpoint = True)\n",
    "z2 = np.linspace(0, 10, 5, endpoint = False)\n",
    "\n",
    "print(x)\n",
    "print(z1)\n",
    "print(z2)"
   ]
  },
  {
   "cell_type": "code",
   "execution_count": 26,
   "id": "781f9c79",
   "metadata": {},
   "outputs": [
    {
     "name": "stdout",
     "output_type": "stream",
     "text": [
      "[[0.24253972 0.8684497  0.53177739]\n",
      " [0.46703354 0.62504739 0.675806  ]]\n",
      "[[ 0.03550084  0.0113149   0.64281104]\n",
      " [ 1.32966031 -1.08843527 -0.15074683]]\n"
     ]
    }
   ],
   "source": [
    "# random으로 샘플을 생성\n",
    "X = np.random.rand(2, 3) # [0, 1] 사이의 uniform distribution을 따르는 랜덤 샘플\n",
    "Y = np.random.randn(2, 3) # Normal distribution (평균 = 0, 분산 = 1)을 따르는 랜덤 샘플\n",
    "\n",
    "print(X)\n",
    "print(Y)"
   ]
  },
  {
   "cell_type": "code",
   "execution_count": 30,
   "id": "4652969b",
   "metadata": {},
   "outputs": [
    {
     "name": "stdout",
     "output_type": "stream",
     "text": [
      "1 (3,) 3\n",
      "2 (2, 3) 6\n",
      "[1. 1. 1.]\n",
      "[[1. 1. 1.]\n",
      " [1. 1. 1.]]\n"
     ]
    }
   ],
   "source": [
    "# np.ndarray에 있는 속성들\n",
    "z = np.ones(3) # 1차원 array = 벡터\n",
    "Z = np.ones((2, 3)) # 2차원 array = 행렬\n",
    "\n",
    "print(z.ndim, z.shape, z.size)\n",
    "print(Z.ndim, Z.shape, Z.size)\n",
    "# ndim = (1 벡터) or (2 행렬)\n",
    "# shape = (몇 행, ) or (몇 행, 몇 열)\n",
    "# size = 전체 스칼라의 개수 = 행x열\n",
    "\n",
    "print(z)\n",
    "print(Z)"
   ]
  },
  {
   "cell_type": "code",
   "execution_count": 33,
   "id": "e3a2429d",
   "metadata": {},
   "outputs": [
    {
     "ename": "ValueError",
     "evalue": "cannot reshape array of size 12 into shape (5,2)",
     "output_type": "error",
     "traceback": [
      "\u001b[1;31m---------------------------------------------------------------------------\u001b[0m",
      "\u001b[1;31mValueError\u001b[0m                                Traceback (most recent call last)",
      "\u001b[1;32m~\\AppData\\Local\\Temp/ipykernel_126244/3427532656.py\u001b[0m in \u001b[0;36m<module>\u001b[1;34m\u001b[0m\n\u001b[0;32m      3\u001b[0m \u001b[0mb\u001b[0m \u001b[1;33m=\u001b[0m \u001b[0ma\u001b[0m\u001b[1;33m.\u001b[0m\u001b[0mreshape\u001b[0m\u001b[1;33m(\u001b[0m\u001b[1;36m4\u001b[0m\u001b[1;33m,\u001b[0m \u001b[1;36m3\u001b[0m\u001b[1;33m)\u001b[0m \u001b[1;31m# a를 4x3으로 reshape\u001b[0m\u001b[1;33m\u001b[0m\u001b[1;33m\u001b[0m\u001b[0m\n\u001b[0;32m      4\u001b[0m \u001b[0mc\u001b[0m \u001b[1;33m=\u001b[0m \u001b[0mb\u001b[0m\u001b[1;33m.\u001b[0m\u001b[0mreshape\u001b[0m\u001b[1;33m(\u001b[0m\u001b[1;36m6\u001b[0m\u001b[1;33m,\u001b[0m \u001b[1;36m2\u001b[0m\u001b[1;33m)\u001b[0m\u001b[1;33m\u001b[0m\u001b[1;33m\u001b[0m\u001b[0m\n\u001b[1;32m----> 5\u001b[1;33m \u001b[0md\u001b[0m \u001b[1;33m=\u001b[0m \u001b[0mc\u001b[0m\u001b[1;33m.\u001b[0m\u001b[0mreshape\u001b[0m\u001b[1;33m(\u001b[0m\u001b[1;36m5\u001b[0m\u001b[1;33m,\u001b[0m \u001b[1;36m2\u001b[0m\u001b[1;33m)\u001b[0m\u001b[1;33m\u001b[0m\u001b[1;33m\u001b[0m\u001b[0m\n\u001b[0m\u001b[0;32m      6\u001b[0m \u001b[1;33m\u001b[0m\u001b[0m\n\u001b[0;32m      7\u001b[0m \u001b[0mprint\u001b[0m\u001b[1;33m(\u001b[0m\u001b[0ma\u001b[0m\u001b[1;33m)\u001b[0m\u001b[1;33m\u001b[0m\u001b[1;33m\u001b[0m\u001b[0m\n",
      "\u001b[1;31mValueError\u001b[0m: cannot reshape array of size 12 into shape (5,2)"
     ]
    }
   ],
   "source": [
    "# reshape\n",
    "a = np.arange(0, 12) # 1차원 벡터, 12x1\n",
    "b = a.reshape(4, 3) # a를 4x3으로 reshape\n",
    "c = b.reshape(6, 2)\n",
    "d = c.reshape(5, 2) # size가 달라서 오류가 나옴\n",
    "\n",
    "# reshape 할 때 값이 채워지는 순서를 잘 기억할 것\n",
    "print(a)\n",
    "print(b)\n",
    "print(c)"
   ]
  },
  {
   "cell_type": "code",
   "execution_count": 48,
   "id": "30753d08",
   "metadata": {},
   "outputs": [
    {
     "name": "stdout",
     "output_type": "stream",
     "text": [
      "[[ 0  1  2  3]\n",
      " [ 4  5  6  7]\n",
      " [ 8  9 10 11]]\n",
      "11\n",
      "[ 3  7 11]\n",
      "[0 1]\n",
      "11\n",
      "6\n",
      "[6]\n",
      "[5 6]\n",
      "[[ 6  7]\n",
      " [10 11]]\n"
     ]
    }
   ],
   "source": [
    "# array의 값에 접근하는 방법\n",
    "a = np.arange(0, 12) # 1차원 벡터, 12x1\n",
    "a = a.reshape(3, 4)\n",
    "\n",
    "print(a)\n",
    "\n",
    "# [행, 열]\n",
    "# 시작값:끝값 = [시작값, 시작값+1, ..., 끝값-1] 끝값을 제외하고\n",
    "# -1 = 마지막 위치, -2 = 마지막에서 두번째 위치\n",
    "\n",
    "print(a[2, 3]) # 0부터 셉니다\n",
    "print(a[0:3, 3]) # a[[0, 1, 2], 3] = 1행~3행, 4열\n",
    "print(a[0, 0:2]) # a[0, [0, 1]] = 1행, 1열~2열\n",
    "\n",
    "print(a[-1, -1]) # -1 = 마지막 위치, [-1, -1] = 마지막 행, 마지막 열\n",
    "print(a[-2, -2]) # -2 = 마지막에서 두번째, [-2, -2] = 마지막에서 두번째 행, 마지막에서 두번째 열\n",
    "\n",
    "print(a[1:-1, -2]) # a[1:-1, -2] = a[1:2, -2] = a[1, -2]\n",
    "print(a[1, 1:-1]) # a[1, 1:-1] = a[1, [1, 2]]\n",
    "\n",
    "print(a[1:, 2:]) # a의 2행~마지막행, 3열~마지막열"
   ]
  },
  {
   "cell_type": "code",
   "execution_count": 4,
   "id": "9893e188",
   "metadata": {},
   "outputs": [
    {
     "data": {
      "text/plain": [
       "<matplotlib.collections.PathCollection at 0x16fd4ebf430>"
      ]
     },
     "execution_count": 4,
     "metadata": {},
     "output_type": "execute_result"
    },
    {
     "data": {
      "image/png": "[encoded data removed]",
      "text/plain": [
       "<Figure size 432x288 with 1 Axes>"
      ]
     },
     "metadata": {
      "needs_background": "light"
     },
     "output_type": "display_data"
    },
    {
     "data": {
      "image/png": "[encoded data removed]",
      "text/plain": [
       "<Figure size 432x288 with 1 Axes>"
      ]
     },
     "metadata": {
      "needs_background": "light"
     },
     "output_type": "display_data"
    }
   ],
   "source": [
    "import matplotlib.pyplot as plt\n",
    "\n",
    "x = np.linspace(0, 10, 100)\n",
    "y = 2*x + np.random.randn(100)\n",
    "\n",
    "# plt.plot(가로축, 세로축)\n",
    "plt.figure()\n",
    "plt.plot(x, y) # 순서대로 직선으로 연결\n",
    "\n",
    "# plt.scatter(가로축, 세로축)\n",
    "plt.figure()\n",
    "plt.scatter(x, y) # 점을 찍는 것"
   ]
  },
  {
   "cell_type": "code",
   "execution_count": null,
   "id": "b5b68191",
   "metadata": {},
   "outputs": [],
   "source": []
  }
 ],
 "metadata": {
  "kernelspec": {
   "display_name": "Python 3 (ipykernel)",
   "language": "python",
   "name": "python3"
  },
  "language_info": {
   "codemirror_mode": {
    "name": "ipython",
    "version": 3
   },
   "file_extension": ".py",
   "mimetype": "text/x-python",
   "name": "python",
   "nbconvert_exporter": "python",
   "pygments_lexer": "ipython3",
   "version": "3.9.7"
  }
 },
 "nbformat": 4,
 "nbformat_minor": 5
}
