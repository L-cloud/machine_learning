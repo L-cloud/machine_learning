{
 "cells": [
  {
   "cell_type": "code",
   "execution_count": 3,
   "id": "d1548637",
   "metadata": {},
   "outputs": [],
   "source": [
    "import numpy as np"
   ]
  },
  {
   "cell_type": "code",
   "execution_count": 7,
   "id": "5295e82d",
   "metadata": {},
   "outputs": [
    {
     "name": "stdout",
     "output_type": "stream",
     "text": [
      "[1 2 3] [[1 2]\n",
      " [4 5]]\n"
     ]
    }
   ],
   "source": [
    "a = np.array([1,2,3])\n",
    "b = np.array([[1,2],[4,5]])\n",
    "print(a, b)"
   ]
  },
  {
   "cell_type": "code",
   "execution_count": 20,
   "id": "57547026",
   "metadata": {},
   "outputs": [
    {
     "name": "stdout",
     "output_type": "stream",
     "text": [
      "[[0. 0. 0. 0.]\n",
      " [0. 0. 0. 0.]\n",
      " [0. 0. 0. 0.]] [0. 0.]\n"
     ]
    }
   ],
   "source": [
    "x = np.zeros((3,4))\n",
    "y = np.zeros(2)\n",
    "print(x, y)"
   ]
  },
  {
   "cell_type": "code",
   "execution_count": 15,
   "id": "9516da24",
   "metadata": {},
   "outputs": [
    {
     "name": "stdout",
     "output_type": "stream",
     "text": [
      "[0 1 2 3 4 5 6 7 8 9] [0 4 8]\n"
     ]
    }
   ],
   "source": [
    "# np.arange(시작하는 값, 마지막 값(디폴트 = 포함 x), 증가량(디폴트 = 1))\n",
    "x = np.arange(0, 10)\n",
    "y = np.arange(0, 10, 4)\n",
    "\n",
    "print(x,y)"
   ]
  },
  {
   "cell_type": "code",
   "execution_count": 17,
   "id": "4d3a619c",
   "metadata": {},
   "outputs": [
    {
     "name": "stdout",
     "output_type": "stream",
     "text": [
      "[ 0.   2.5  5.   7.5 10. ]\n",
      "[ 0.   2.5  5.   7.5 10. ]\n",
      "[0. 2. 4. 6. 8.]\n"
     ]
    }
   ],
   "source": [
    "# np.linspace(시작하는 값, 마지막 값(디폴트 = 포함 o), 전체 개수)\n",
    "x = np.linspace(0, 10, 5)\n",
    "z1 = np.linspace(0, 10, 5, endpoint = True)\n",
    "z2 = np.linspace(0, 10, 5, endpoint = False)\n",
    "\n",
    "print(x)\n",
    "print(z1)\n",
    "print(z2)"
   ]
  },
  {
   "cell_type": "code",
   "execution_count": 18,
   "id": "c2dcb0af",
   "metadata": {},
   "outputs": [
    {
     "name": "stdout",
     "output_type": "stream",
     "text": [
      "[[0.19262892 0.45661625 0.59186821]\n",
      " [0.33291862 0.87575612 0.20998419]]\n",
      "[[ 2.02689655  0.41459346 -0.73553889]\n",
      " [ 0.53638731  1.1921251  -0.42607786]]\n"
     ]
    }
   ],
   "source": [
    "# random으로 샘플을 생성\n",
    "X = np.random.rand(2, 3) # [0, 1] 사이의 uniform distribution을 따르는 랜덤 샘플\n",
    "Y = np.random.randn(2, 3) # Normal distribution (평균 = 0, 분산 = 1)을 따르는 랜덤 샘플\n",
    "\n",
    "print(X)\n",
    "print(Y)"
   ]
  },
  {
   "cell_type": "code",
   "execution_count": 21,
   "id": "8307b4e5",
   "metadata": {},
   "outputs": [
    {
     "name": "stdout",
     "output_type": "stream",
     "text": [
      "1 (3,) 3\n",
      "2 (2, 3) 6\n",
      "[1. 1. 1.]\n",
      "[[1. 1. 1.]\n",
      " [1. 1. 1.]]\n"
     ]
    }
   ],
   "source": [
    "# np.ndarray에 있는 속성들\n",
    "z = np.ones(3) # 1차원 array = 벡터\n",
    "Z = np.ones((2, 3)) # 2차원 array = 행렬\n",
    "\n",
    "print(z.ndim, z.shape, z.size)\n",
    "print(Z.ndim, Z.shape, Z.size)\n",
    "# ndim = (1 벡터) or (2 행렬)\n",
    "# shape = (몇 행, ) or (몇 행, 몇 열)\n",
    "# size = 전체 스칼라의 개수 = 행x열\n",
    "\n",
    "print(z)\n",
    "print(Z)"
   ]
  },
  {
   "cell_type": "code",
   "execution_count": 22,
   "id": "e5f105fc",
   "metadata": {},
   "outputs": [
    {
     "name": "stdout",
     "output_type": "stream",
     "text": [
      "[[ 0  1  2  3]\n",
      " [ 4  5  6  7]\n",
      " [ 8  9 10 11]]\n",
      "11\n",
      "[ 3  7 11]\n",
      "[0 1]\n",
      "11\n",
      "6\n",
      "[6]\n",
      "[5 6]\n",
      "[[ 6  7]\n",
      " [10 11]]\n"
     ]
    }
   ],
   "source": [
    "# array의 값에 접근하는 방법\n",
    "a = np.arange(0, 12) # 1차원 벡터, 12x1\n",
    "a = a.reshape(3, 4)\n",
    "\n",
    "print(a)\n",
    "\n",
    "# [행, 열]\n",
    "# 시작값:끝값 = [시작값, 시작값+1, ..., 끝값-1] 끝값을 제외하고\n",
    "# -1 = 마지막 위치, -2 = 마지막에서 두번째 위치\n",
    "\n",
    "print(a[2, 3]) # 0부터 셉니다\n",
    "print(a[0:3, 3]) # a[[0, 1, 2], 3] = 1행~3행, 4열\n",
    "print(a[0, 0:2]) # a[0, [0, 1]] = 1행, 1열~2열\n",
    "\n",
    "print(a[-1, -1]) # -1 = 마지막 위치, [-1, -1] = 마지막 행, 마지막 열\n",
    "print(a[-2, -2]) # -2 = 마지막에서 두번째, [-2, -2] = 마지막에서 두번째 행, 마지막에서 두번째 열\n",
    "\n",
    "print(a[1:-1, -2]) # a[1:-1, -2] = a[1:2, -2] = a[1, -2]\n",
    "print(a[1, 1:-1]) # a[1, 1:-1] = a[1, [1, 2]]\n",
    "\n",
    "print(a[1:, 2:]) # a의 2행~마지막행, 3열~마지막열"
   ]
  },
  {
   "cell_type": "code",
   "execution_count": 27,
   "id": "ff7f9ba1",
   "metadata": {},
   "outputs": [
    {
     "data": {
      "text/plain": [
       "<matplotlib.collections.PathCollection at 0x1fd30c6dc70>"
      ]
     },
     "execution_count": 27,
     "metadata": {},
     "output_type": "execute_result"
    },
    {
     "data": {
      "image/png": "[encoded data removed]",
      "text/plain": [
       "<Figure size 432x288 with 1 Axes>"
      ]
     },
     "metadata": {
      "needs_background": "light"
     },
     "output_type": "display_data"
    },
    {
     "data": {
      "image/png": "[encoded data removed]",
      "text/plain": [
       "<Figure size 432x288 with 1 Axes>"
      ]
     },
     "metadata": {
      "needs_background": "light"
     },
     "output_type": "display_data"
    }
   ],
   "source": [
    "import matplotlib.pyplot as plt\n",
    "\n",
    "x = np.linspace(0, 10, 100) # 리스트라고 생각하면 될듯\n",
    "y = 2*x + np.random.randn(100)\n",
    "\n",
    "# plt.plot(가로축, 세로축)\n",
    "plt.figure()\n",
    "plt.plot(x, y) # 순서대로 직선으로 연결\n",
    "\n",
    "# plt.scatter(가로축, 세로축)\n",
    "plt.figure()\n",
    "plt.scatter(x, y) # 점을 찍는 것"
   ]
  },
  {
   "cell_type": "code",
   "execution_count": null,
   "id": "27af6f4c",
   "metadata": {},
   "outputs": [],
   "source": []
  }
 ],
 "metadata": {
  "kernelspec": {
   "display_name": "Python 3 (ipykernel)",
   "language": "python",
   "name": "python3"
  },
  "language_info": {
   "codemirror_mode": {
    "name": "ipython",
    "version": 3
   },
   "file_extension": ".py",
   "mimetype": "text/x-python",
   "name": "python",
   "nbconvert_exporter": "python",
   "pygments_lexer": "ipython3",
   "version": "3.9.7"
  }
 },
 "nbformat": 4,
 "nbformat_minor": 5
}
