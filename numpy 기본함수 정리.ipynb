{
 "cells": [
  {
   "cell_type": "code",
   "execution_count": 1,
   "id": "63667d81",
   "metadata": {},
   "outputs": [],
   "source": [
    "# 행렬 = 여러개의 점들 N x D\n",
    "# 주어진 한 점 = 1 x D\n",
    "\n",
    "# 행렬에 있는 점들 ~ 주어진 한 점\n",
    "# 사이의 거리를 구하는 것"
   ]
  },
  {
   "cell_type": "code",
   "execution_count": 2,
   "id": "0d737bb0",
   "metadata": {},
   "outputs": [],
   "source": [
    "import numpy as np\n",
    "import matplotlib.pyplot as plt\n",
    "\n",
    "# 코드 실행 시간 측정\n",
    "from pytictoc import TicToc"
   ]
  },
  {
   "cell_type": "code",
   "execution_count": 13,
   "id": "b983518c",
   "metadata": {},
   "outputs": [
    {
     "name": "stdout",
     "output_type": "stream",
     "text": [
      "a shape (3,) b shape  (3,)\n",
      "[1 2 3 4 5 6]\n",
      "[[1 2 3]\n",
      " [4 5 6]]\n",
      "-----------------\n",
      "a shape (3, 1) b shape  (3, 1)\n",
      "[[1 4]\n",
      " [2 5]\n",
      " [3 6]]\n",
      "[[1]\n",
      " [2]\n",
      " [3]\n",
      " [4]\n",
      " [5]\n",
      " [6]]\n",
      "-----------------\n",
      "(10,)\n",
      "(10,)\n",
      "[ 0  1  2  3  4  5  6  7  8  9  0  2  4  6  8 10 12 14 16 18]\n",
      "[[ 0  1  2  3  4  5  6  7  8  9]\n",
      " [ 0  2  4  6  8 10 12 14 16 18]]\n",
      "(20,)\n",
      "(2, 10)\n"
     ]
    }
   ],
   "source": [
    "# 행렬 쌓는 함수\n",
    "# hstack = 가로로\n",
    "# vstack = 세로로\n",
    "a = np.array((1,2,3))\n",
    "b = np.array((4,5,6))\n",
    "print(\"a shape\", a.shape, \"b shape \", b.shape)\n",
    "print(np.hstack((a,b)))\n",
    "print(np.vstack((a,b)))\n",
    "print(\"-----------------\")\n",
    "## 위의 a,b와 아래의 a,b 차이 잘 구별하기\n",
    "a = np.array([[1],[2],[3]])\n",
    "b = np.array([[4],[5],[6]])\n",
    "print(\"a shape\", a.shape, \"b shape \", b.shape)\n",
    "print(np.hstack((a,b)))\n",
    "print(np.vstack((a,b)))\n",
    "print(\"-----------------\")\n",
    "x = np.arange(10)\n",
    "y = 2*x\n",
    "print(x.shape)\n",
    "print(y.shape)\n",
    "# numpy 벡터 = 행 벡터가 디폴트\n",
    "z1 = np.hstack([x,y]) # 벡터 ndim = 1짜리인, shape(20,) h = horizion, v= vertex 생각하면 될듯\n",
    "z2 = np.vstack([x,y]) # 1 x 10 짜리 벡터를 세로로 쌓은 듯한 2x10 행렬\n",
    "\n",
    "print(z1)\n",
    "print(z2)\n",
    "print(z1.shape)\n",
    "print(z2.shape)"
   ]
  },
  {
   "cell_type": "code",
   "execution_count": 15,
   "id": "f768ed97",
   "metadata": {},
   "outputs": [
    {
     "name": "stdout",
     "output_type": "stream",
     "text": [
      "[[0.38906309 0.81273291 0.92960753]\n",
      " [0.34815976 0.61863824 0.03111252]\n",
      " [0.63905498 0.59262709 0.20085921]\n",
      " [0.59468237 0.63024952 0.32074725]\n",
      " [0.15263037 0.13138166 0.43883251]\n",
      " [0.28000915 0.60199797 0.73252238]\n",
      " [0.17512114 0.65059035 0.16099621]\n",
      " [0.63787727 0.12175761 0.51380535]\n",
      " [0.07086644 0.04983936 0.53430802]\n",
      " [0.9054317  0.08136232 0.28639969]]\n",
      "12.633263964915827\n",
      "[4.19289626 4.29117703 4.14919067]\n",
      "[2.13140353 0.99791052 1.43254127 1.54567914 0.72284454 1.6145295\n",
      " 0.9867077  1.27344023 0.65501383 1.27319371]\n"
     ]
    }
   ],
   "source": [
    "X = np.random.rand(10,3)\n",
    "print(X)\n",
    "\n",
    "print(np.sum(X)) # 전체값 다 더 함 스칼라 1개\n",
    "print(np.sum(X, axis = 0)) # 더하는 방향을 0번째 축, 행에 대해서 덧셈 //결과는 열\n",
    "print(np.sum(X, axis = 1)) # 더하는 방향을 1번째 축, 열에 대해서 덧셈 // 결과는 행"
   ]
  },
  {
   "cell_type": "code",
   "execution_count": 30,
   "id": "a29dede7",
   "metadata": {},
   "outputs": [
    {
     "name": "stdout",
     "output_type": "stream",
     "text": [
      "[0.27098029 0.3879431  0.63453456 0.39945008 0.7624756  0.21451665\n",
      " 0.7641146  0.84047614 0.06890397 0.37657213] (10,)\n",
      "0.8404761417333756\n",
      "7\n",
      "0.06890396581872993\n",
      "8\n",
      "np.where =  (array([2, 4, 6, 7], dtype=int64),)\n"
     ]
    }
   ],
   "source": [
    "x = np.random.rand(10)\n",
    "print(x, x.shape)\n",
    "print(np.max(x))\n",
    "print(np.argmax(x)) # 들어있는 값들 중에서 제일 큰 값이 있는 인덱스를 리턴\n",
    "print(np.min(x))\n",
    "print(np.argmin(x))\n",
    "\n",
    "print(\"np.where = \",np.where(x >= 0.5)) # 인덱스를 리턴"
   ]
  },
  {
   "cell_type": "code",
   "execution_count": 34,
   "id": "13a16b59",
   "metadata": {},
   "outputs": [
    {
     "name": "stdout",
     "output_type": "stream",
     "text": [
      "[[0.78362328 0.5448282 ]\n",
      " [0.23235158 0.84796216]\n",
      " [0.77563171 0.80431692]\n",
      " [0.21541401 0.12143876]\n",
      " [0.48951735 0.26166696]\n",
      " [0.99239658 0.73343163]\n",
      " [0.39089925 0.04111114]\n",
      " [0.68182444 0.89230529]\n",
      " [0.64100556 0.65939725]\n",
      " [0.47137452 0.30730334]\n",
      " [0.1276827  0.98427456]\n",
      " [0.0721217  0.28082502]\n",
      " [0.11498228 0.15678431]\n",
      " [0.20500371 0.77906117]\n",
      " [0.33142193 0.9253003 ]\n",
      " [0.64715737 0.08456102]\n",
      " [0.58126864 0.85245427]\n",
      " [0.81400105 0.00351995]\n",
      " [0.73508118 0.47787081]\n",
      " [0.36570937 0.98570637]\n",
      " [0.9501236  0.37614949]\n",
      " [0.59335905 0.77155285]\n",
      " [0.80733721 0.32656621]\n",
      " [0.31314407 0.14343537]\n",
      " [0.87144622 0.95391876]\n",
      " [0.73781045 0.9740004 ]\n",
      " [0.44001312 0.76690688]\n",
      " [0.88531427 0.13013939]\n",
      " [0.63656254 0.33015665]\n",
      " [0.09112002 0.1572864 ]\n",
      " [0.99701534 0.95160785]\n",
      " [0.2941783  0.82942114]\n",
      " [0.88945764 0.57578153]\n",
      " [0.34762819 0.9106296 ]\n",
      " [0.57364522 0.32483434]\n",
      " [0.42272757 0.73191117]\n",
      " [0.13144962 0.93107407]\n",
      " [0.71521572 0.72223264]\n",
      " [0.64635856 0.42719528]\n",
      " [0.0079097  0.97994404]\n",
      " [0.35978552 0.10948746]\n",
      " [0.25413494 0.5632657 ]\n",
      " [0.69289985 0.77608021]\n",
      " [0.62586791 0.31263021]\n",
      " [0.30126944 0.03699156]\n",
      " [0.27005025 0.41678641]\n",
      " [0.81035385 0.4308042 ]\n",
      " [0.54486828 0.46804377]\n",
      " [0.04783168 0.41940818]\n",
      " [0.15504702 0.39982997]\n",
      " [0.40626433 0.99882444]\n",
      " [0.64119947 0.30947849]\n",
      " [0.35995404 0.6520194 ]\n",
      " [0.51819829 0.61652251]\n",
      " [0.36092572 0.01595309]\n",
      " [0.74127458 0.44875611]\n",
      " [0.25432394 0.78175151]\n",
      " [0.14648442 0.09680184]\n",
      " [0.11962158 0.15772225]\n",
      " [0.85219173 0.09956448]\n",
      " [0.74244886 0.20471984]\n",
      " [0.40520296 0.95527337]\n",
      " [0.488162   0.80253033]\n",
      " [0.03397836 0.21000128]\n",
      " [0.81921619 0.93380519]\n",
      " [0.22234559 0.38120337]\n",
      " [0.19540002 0.09867714]\n",
      " [0.06498519 0.7745227 ]\n",
      " [0.34094814 0.72880453]\n",
      " [0.17635646 0.80916703]\n",
      " [0.47908659 0.37861588]\n",
      " [0.11159884 0.12202225]\n",
      " [0.84627053 0.72147921]\n",
      " [0.09427764 0.18365055]\n",
      " [0.24265524 0.34511595]\n",
      " [0.71854542 0.51629433]\n",
      " [0.44323194 0.55007569]\n",
      " [0.94495072 0.18872415]\n",
      " [0.64771957 0.78480467]\n",
      " [0.13958739 0.69636978]\n",
      " [0.10984867 0.35560664]\n",
      " [0.77783087 0.0733093 ]\n",
      " [0.83678053 0.71441767]\n",
      " [0.96196364 0.2060594 ]\n",
      " [0.45271806 0.66024242]\n",
      " [0.86658047 0.12121875]\n",
      " [0.90034979 0.36610741]\n",
      " [0.70768608 0.06616404]\n",
      " [0.68841459 0.85195636]\n",
      " [0.4322388  0.11473216]\n",
      " [0.54841277 0.53841451]\n",
      " [0.44403841 0.26097209]\n",
      " [0.5127481  0.54937467]\n",
      " [0.54864507 0.16556777]\n",
      " [0.82040371 0.1004018 ]\n",
      " [0.80829742 0.78875579]\n",
      " [0.51537867 0.0671356 ]\n",
      " [0.80188048 0.56066257]\n",
      " [0.20765114 0.60731868]\n",
      " [0.68740944 0.45645726]]\n"
     ]
    },
    {
     "data": {
      "image/png": "[encoded data removed]",
      "text/plain": [
       "<Figure size 432x288 with 1 Axes>"
      ]
     },
     "metadata": {
      "needs_background": "light"
     },
     "output_type": "display_data"
    }
   ],
   "source": [
    "N = 100 # 샘플의 갯수\n",
    "D = 5 # 차원\n",
    "\n",
    "\n",
    "X = np.random.rand(N,D) # N x D, N개의 점 D 차원 벡터, 행벡터로 들어감\n",
    "z = np.random.rand(D) #거리를 구할점 1개\n",
    "Dist = np.zeros(N)\n",
    "\n",
    "for n in range(N):\n",
    "    Dist[n] = np.sqrt((X[n,0] - z[0]) ** 2 + (X[n,1] - z[1]) ** 2)\n",
    "\n",
    "idLong = np.argmax(Dist)\n",
    "\n",
    "plt.scatter(X[idLong,0],X[idLong,1], )\n",
    "plt.scatter(X[:,0], X[:,1])\n",
    "plt.scatter(z[0], z[1], marker = 'x', facecolor = 'r')\n",
    "\n",
    "print(X[10:15])\n"
   ]
  },
  {
   "cell_type": "code",
   "execution_count": null,
   "id": "457730ef",
   "metadata": {},
   "outputs": [],
   "source": []
  }
 ],
 "metadata": {
  "kernelspec": {
   "display_name": "Python 3 (ipykernel)",
   "language": "python",
   "name": "python3"
  },
  "language_info": {
   "codemirror_mode": {
    "name": "ipython",
    "version": 3
   },
   "file_extension": ".py",
   "mimetype": "text/x-python",
   "name": "python",
   "nbconvert_exporter": "python",
   "pygments_lexer": "ipython3",
   "version": "3.9.7"
  }
 },
 "nbformat": 4,
 "nbformat_minor": 5
}
